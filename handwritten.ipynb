{
 "cells": [
  {
   "cell_type": "code",
   "execution_count": 5,
   "metadata": {},
   "outputs": [],
   "source": [
    "#uncomment the 2 lines after to install the package\n",
    "#source(\"http://bioconductor.org/biocLite.R\")\n",
    "#biocLite(\"rhdf5\")\n",
    "library(rhdf5)\n",
    "library(grid)\n",
    "library(keras)\n",
    "library(lattice)\n",
    "library(ggplot2)\n",
    "library(caret)"
   ]
  },
  {
   "cell_type": "code",
   "execution_count": 6,
   "metadata": {},
   "outputs": [],
   "source": [
    "#============================\n",
    "#Load and Preprocess the Data\n",
    "#============================\n",
    "data <- read.csv(\"letters.csv\")\n",
    "files <- array(data$file)\n",
    "letters <- array(data$letter)\n",
    "backgrounds <- array(data$background)"
   ]
  },
  {
   "cell_type": "code",
   "execution_count": 7,
   "metadata": {},
   "outputs": [
    {
     "name": "stdout",
     "output_type": "stream",
     "text": [
      "[1] \"Tensor shape:\"\n"
     ]
    },
    {
     "data": {
      "text/html": [
       "<ol class=list-inline>\n",
       "\t<li>1650</li>\n",
       "\t<li>32</li>\n",
       "\t<li>32</li>\n",
       "\t<li>3</li>\n",
       "</ol>\n"
      ],
      "text/latex": [
       "\\begin{enumerate*}\n",
       "\\item 1650\n",
       "\\item 32\n",
       "\\item 32\n",
       "\\item 3\n",
       "\\end{enumerate*}\n"
      ],
      "text/markdown": [
       "1. 1650\n",
       "2. 32\n",
       "3. 32\n",
       "4. 3\n",
       "\n",
       "\n"
      ],
      "text/plain": [
       "[1] 1650   32   32    3"
      ]
     },
     "metadata": {},
     "output_type": "display_data"
    },
    {
     "name": "stdout",
     "output_type": "stream",
     "text": [
      "[1] \"Target shape:\"\n"
     ]
    },
    {
     "data": {
      "text/html": [
       "1650"
      ],
      "text/latex": [
       "1650"
      ],
      "text/markdown": [
       "1650"
      ],
      "text/plain": [
       "[1] 1650"
      ]
     },
     "metadata": {},
     "output_type": "display_data"
    }
   ],
   "source": [
    "# Create tensors and targets\n",
    "fname <- \"LetterColorImages.h5\"\n",
    "f <- h5ls(fname)\n",
    "tensors <- h5read(fname, \"/images\")\n",
    "targets <- h5read(fname, \"/labels\")\n",
    "tensors <- aperm(tensors, c(4, 3, 2, 1))\n",
    "print (\"Tensor shape:\")\n",
    "dim(tensors)\n",
    "print (\"Target shape:\")\n",
    "dim(targets)"
   ]
  },
  {
   "cell_type": "code",
   "execution_count": 8,
   "metadata": {},
   "outputs": [],
   "source": [
    "# Normalize the tensors\n",
    "tensors <- tensors / 255"
   ]
  },
  {
   "cell_type": "code",
   "execution_count": 11,
   "metadata": {},
   "outputs": [
    {
     "name": "stdout",
     "output_type": "stream",
     "text": [
      "[1] \"Label:\"\n"
     ]
    },
    {
     "data": {
      "text/html": [
       "'胁'"
      ],
      "text/latex": [
       "'胁'"
      ],
      "text/markdown": [
       "'胁'"
      ],
      "text/plain": [
       "[1] \"胁\""
      ]
     },
     "metadata": {},
     "output_type": "display_data"
    },
    {
     "data": {
      "image/png": "[encoded data removed]",
      "text/plain": [
       "plot without title"
      ]
     },
     "metadata": {},
     "output_type": "display_data"
    }
   ],
   "source": [
    "# Read and display a tensor\n",
    "print(\"Label:\")\n",
    "letters[101]\n",
    "col <-\n",
    "  rgb(tensors[101, , 1:32, 1], tensors[101, , 1:32, 2], tensors[101, , 1:32, 3])\n",
    "dim(col) <- dim(tensors[101, , , 1])\n",
    "grid.raster(col, interpolate = FALSE)"
   ]
  },
  {
   "cell_type": "code",
   "execution_count": 12,
   "metadata": {},
   "outputs": [
    {
     "name": "stdout",
     "output_type": "stream",
     "text": [
      "[1] \"Grayscaled Tensor shape:\"\n"
     ]
    },
    {
     "data": {
      "text/html": [
       "<ol class=list-inline>\n",
       "\t<li>1650</li>\n",
       "\t<li>32</li>\n",
       "\t<li>32</li>\n",
       "</ol>\n"
      ],
      "text/latex": [
       "\\begin{enumerate*}\n",
       "\\item 1650\n",
       "\\item 32\n",
       "\\item 32\n",
       "\\end{enumerate*}\n"
      ],
      "text/markdown": [
       "1. 1650\n",
       "2. 32\n",
       "3. 32\n",
       "\n",
       "\n"
      ],
      "text/plain": [
       "[1] 1650   32   32"
      ]
     },
     "metadata": {},
     "output_type": "display_data"
    }
   ],
   "source": [
    "# Grayscaled tensors\n",
    "gray_tensors <- tensors\n",
    "mean <- function(a) {\n",
    "  return (a[1] * 0.299 + a[2] * 0.587 + a[3] * 0.114)\n",
    "}\n",
    "gray_tensors <- apply(gray_tensors, c(1, 2, 3), mean)\n",
    "print (\"Grayscaled Tensor shape:\")\n",
    "dim(gray_tensors)"
   ]
  },
  {
   "cell_type": "code",
   "execution_count": 13,
   "metadata": {},
   "outputs": [
    {
     "name": "stdout",
     "output_type": "stream",
     "text": [
      "[1] \"Label:\"\n"
     ]
    },
    {
     "data": {
      "text/html": [
       "'胁'"
      ],
      "text/latex": [
       "'胁'"
      ],
      "text/markdown": [
       "'胁'"
      ],
      "text/plain": [
       "[1] \"胁\""
      ]
     },
     "metadata": {},
     "output_type": "display_data"
    },
    {
     "data": {
      "image/png": "[encoded data removed]",
      "text/plain": [
       "plot without title"
      ]
     },
     "metadata": {},
     "output_type": "display_data"
    }
   ],
   "source": [
    "# Read and display a grayscaled tensor\n",
    "print(\"Label:\")\n",
    "letters[101]\n",
    "grid.raster(gray_tensors[101, , 1:32], interpolate = FALSE)"
   ]
  },
  {
   "cell_type": "code",
   "execution_count": 14,
   "metadata": {},
   "outputs": [
    {
     "data": {
      "text/html": [
       "<ol class=list-inline>\n",
       "\t<li>1</li>\n",
       "\t<li>2</li>\n",
       "\t<li>3</li>\n",
       "\t<li>4</li>\n",
       "\t<li>5</li>\n",
       "\t<li>6</li>\n",
       "\t<li>7</li>\n",
       "\t<li>8</li>\n",
       "\t<li>9</li>\n",
       "\t<li>10</li>\n",
       "\t<li>11</li>\n",
       "\t<li>12</li>\n",
       "\t<li>13</li>\n",
       "\t<li>14</li>\n",
       "\t<li>15</li>\n",
       "\t<li>16</li>\n",
       "\t<li>17</li>\n",
       "\t<li>18</li>\n",
       "\t<li>19</li>\n",
       "\t<li>20</li>\n",
       "\t<li>21</li>\n",
       "\t<li>22</li>\n",
       "\t<li>23</li>\n",
       "\t<li>24</li>\n",
       "\t<li>25</li>\n",
       "\t<li>26</li>\n",
       "\t<li>27</li>\n",
       "\t<li>28</li>\n",
       "\t<li>29</li>\n",
       "\t<li>30</li>\n",
       "\t<li>31</li>\n",
       "\t<li>32</li>\n",
       "\t<li>33</li>\n",
       "</ol>\n"
      ],
      "text/latex": [
       "\\begin{enumerate*}\n",
       "\\item 1\n",
       "\\item 2\n",
       "\\item 3\n",
       "\\item 4\n",
       "\\item 5\n",
       "\\item 6\n",
       "\\item 7\n",
       "\\item 8\n",
       "\\item 9\n",
       "\\item 10\n",
       "\\item 11\n",
       "\\item 12\n",
       "\\item 13\n",
       "\\item 14\n",
       "\\item 15\n",
       "\\item 16\n",
       "\\item 17\n",
       "\\item 18\n",
       "\\item 19\n",
       "\\item 20\n",
       "\\item 21\n",
       "\\item 22\n",
       "\\item 23\n",
       "\\item 24\n",
       "\\item 25\n",
       "\\item 26\n",
       "\\item 27\n",
       "\\item 28\n",
       "\\item 29\n",
       "\\item 30\n",
       "\\item 31\n",
       "\\item 32\n",
       "\\item 33\n",
       "\\end{enumerate*}\n"
      ],
      "text/markdown": [
       "1. 1\n",
       "2. 2\n",
       "3. 3\n",
       "4. 4\n",
       "5. 5\n",
       "6. 6\n",
       "7. 7\n",
       "8. 8\n",
       "9. 9\n",
       "10. 10\n",
       "11. 11\n",
       "12. 12\n",
       "13. 13\n",
       "14. 14\n",
       "15. 15\n",
       "16. 16\n",
       "17. 17\n",
       "18. 18\n",
       "19. 19\n",
       "20. 20\n",
       "21. 21\n",
       "22. 22\n",
       "23. 23\n",
       "24. 24\n",
       "25. 25\n",
       "26. 26\n",
       "27. 27\n",
       "28. 28\n",
       "29. 29\n",
       "30. 30\n",
       "31. 31\n",
       "32. 32\n",
       "33. 33\n",
       "\n",
       "\n"
      ],
      "text/plain": [
       " [1]  1  2  3  4  5  6  7  8  9 10 11 12 13 14 15 16 17 18 19 20 21 22 23 24 25\n",
       "[26] 26 27 28 29 30 31 32 33"
      ]
     },
     "metadata": {},
     "output_type": "display_data"
    },
    {
     "name": "stdout",
     "output_type": "stream",
     "text": [
      "[1] \"{а,б,в,г,д,е,ё,ж,з,и,й,к,л,м,н,о,п,р,с,т,у,ф,х,ц,ч,ш,щ,ъ,ы,ь,э,ю,я}\"\n"
     ]
    }
   ],
   "source": [
    "# Print the target unique values\n",
    "unique(targets)\n",
    "print(\"{а,б,в,г,д,е,ё,ж,з,и,й,к,л,м,н,о,п,р,с,т,у,ф,х,ц,ч,ш,щ,ъ,ы,ь,э,ю,я}\")"
   ]
  },
  {
   "cell_type": "code",
   "execution_count": 18,
   "metadata": {},
   "outputs": [
    {
     "data": {
      "text/html": [
       "<ol class=list-inline>\n",
       "\t<li>1650</li>\n",
       "\t<li>33</li>\n",
       "</ol>\n"
      ],
      "text/latex": [
       "\\begin{enumerate*}\n",
       "\\item 1650\n",
       "\\item 33\n",
       "\\end{enumerate*}\n"
      ],
      "text/markdown": [
       "1. 1650\n",
       "2. 33\n",
       "\n",
       "\n"
      ],
      "text/plain": [
       "[1] 1650   33"
      ]
     },
     "metadata": {},
     "output_type": "display_data"
    }
   ],
   "source": [
    "# One-hot encode the targets, started from the zero label\n",
    "cat_targets = to_categorical(targets - 1, 33)\n",
    "dim(cat_targets)"
   ]
  },
  {
   "cell_type": "code",
   "execution_count": 19,
   "metadata": {},
   "outputs": [],
   "source": [
    "# Split the data\n",
    "set.seed(100)\n",
    "#creating indices\n",
    "trainIndex <-\n",
    "  createDataPartition(cat_targets[, 1], p = 0.8, list = FALSE)\n",
    "x_train <- tensors[trainIndex, , ,]\n",
    "y_train <- cat_targets[trainIndex,]\n",
    "x_test <- tensors[-trainIndex, , ,]\n",
    "y_test <- cat_targets[-trainIndex,]"
   ]
  },
  {
   "cell_type": "code",
   "execution_count": 20,
   "metadata": {},
   "outputs": [
    {
     "name": "stdout",
     "output_type": "stream",
     "text": [
      "[1] \"Training tensor's shape:\"\n"
     ]
    },
    {
     "data": {
      "text/html": [
       "<ol class=list-inline>\n",
       "\t<li>1320</li>\n",
       "\t<li>32</li>\n",
       "\t<li>32</li>\n",
       "\t<li>3</li>\n",
       "</ol>\n"
      ],
      "text/latex": [
       "\\begin{enumerate*}\n",
       "\\item 1320\n",
       "\\item 32\n",
       "\\item 32\n",
       "\\item 3\n",
       "\\end{enumerate*}\n"
      ],
      "text/markdown": [
       "1. 1320\n",
       "2. 32\n",
       "3. 32\n",
       "4. 3\n",
       "\n",
       "\n"
      ],
      "text/plain": [
       "[1] 1320   32   32    3"
      ]
     },
     "metadata": {},
     "output_type": "display_data"
    },
    {
     "name": "stdout",
     "output_type": "stream",
     "text": [
      "[1] \"Training target's shape:\"\n"
     ]
    },
    {
     "data": {
      "text/html": [
       "<ol class=list-inline>\n",
       "\t<li>1320</li>\n",
       "\t<li>33</li>\n",
       "</ol>\n"
      ],
      "text/latex": [
       "\\begin{enumerate*}\n",
       "\\item 1320\n",
       "\\item 33\n",
       "\\end{enumerate*}\n"
      ],
      "text/markdown": [
       "1. 1320\n",
       "2. 33\n",
       "\n",
       "\n"
      ],
      "text/plain": [
       "[1] 1320   33"
      ]
     },
     "metadata": {},
     "output_type": "display_data"
    },
    {
     "name": "stdout",
     "output_type": "stream",
     "text": [
      "[1] \"Testing tensor's shape:\"\n"
     ]
    },
    {
     "data": {
      "text/html": [
       "<ol class=list-inline>\n",
       "\t<li>330</li>\n",
       "\t<li>32</li>\n",
       "\t<li>32</li>\n",
       "\t<li>3</li>\n",
       "</ol>\n"
      ],
      "text/latex": [
       "\\begin{enumerate*}\n",
       "\\item 330\n",
       "\\item 32\n",
       "\\item 32\n",
       "\\item 3\n",
       "\\end{enumerate*}\n"
      ],
      "text/markdown": [
       "1. 330\n",
       "2. 32\n",
       "3. 32\n",
       "4. 3\n",
       "\n",
       "\n"
      ],
      "text/plain": [
       "[1] 330  32  32   3"
      ]
     },
     "metadata": {},
     "output_type": "display_data"
    },
    {
     "name": "stdout",
     "output_type": "stream",
     "text": [
      "[1] \"Testing target's shape:\"\n"
     ]
    },
    {
     "data": {
      "text/html": [
       "<ol class=list-inline>\n",
       "\t<li>330</li>\n",
       "\t<li>33</li>\n",
       "</ol>\n"
      ],
      "text/latex": [
       "\\begin{enumerate*}\n",
       "\\item 330\n",
       "\\item 33\n",
       "\\end{enumerate*}\n"
      ],
      "text/markdown": [
       "1. 330\n",
       "2. 33\n",
       "\n",
       "\n"
      ],
      "text/plain": [
       "[1] 330  33"
      ]
     },
     "metadata": {},
     "output_type": "display_data"
    }
   ],
   "source": [
    "# Print the shape\n",
    "print (\"Training tensor's shape:\")\n",
    "dim(x_train)\n",
    "print (\"Training target's shape:\")\n",
    "dim(y_train)\n",
    "print (\"Testing tensor's shape:\")\n",
    "dim(x_test)\n",
    "print (\"Testing target's shape:\")\n",
    "dim(y_test)"
   ]
  },
  {
   "cell_type": "code",
   "execution_count": 21,
   "metadata": {},
   "outputs": [
    {
     "data": {
      "text/html": [
       "<ol class=list-inline>\n",
       "\t<li>1320</li>\n",
       "\t<li>1</li>\n",
       "</ol>\n"
      ],
      "text/latex": [
       "\\begin{enumerate*}\n",
       "\\item 1320\n",
       "\\item 1\n",
       "\\end{enumerate*}\n"
      ],
      "text/markdown": [
       "1. 1320\n",
       "2. 1\n",
       "\n",
       "\n"
      ],
      "text/plain": [
       "[1] 1320    1"
      ]
     },
     "metadata": {},
     "output_type": "display_data"
    }
   ],
   "source": [
    "# Split the grayscaled data\n",
    "trainIndex <-\n",
    "  createDataPartition(cat_targets[, 1], p = 0.8, list = FALSE)\n",
    "x_train2 <- gray_tensors[trainIndex, ,]\n",
    "y_train2 <- cat_targets[trainIndex,]\n",
    "x_test2 <- gray_tensors[-trainIndex, ,]\n",
    "y_test2 <- cat_targets[-trainIndex,]\n",
    "dim(trainIndex)\n",
    "x_train2 <- array(x_train2, c(dim(trainIndex)[1], 32, 32, 1))\n",
    "x_test2 <-\n",
    "  array(x_test2, c(dim(gray_tensors)[1] - dim(-trainIndex)[1], 32, 32, 1))"
   ]
  },
  {
   "cell_type": "code",
   "execution_count": 22,
   "metadata": {},
   "outputs": [
    {
     "name": "stdout",
     "output_type": "stream",
     "text": [
      "[1] \"Training grayscaled tensor's shape:\"\n"
     ]
    },
    {
     "data": {
      "text/html": [
       "<ol class=list-inline>\n",
       "\t<li>1320</li>\n",
       "\t<li>32</li>\n",
       "\t<li>32</li>\n",
       "\t<li>1</li>\n",
       "</ol>\n"
      ],
      "text/latex": [
       "\\begin{enumerate*}\n",
       "\\item 1320\n",
       "\\item 32\n",
       "\\item 32\n",
       "\\item 1\n",
       "\\end{enumerate*}\n"
      ],
      "text/markdown": [
       "1. 1320\n",
       "2. 32\n",
       "3. 32\n",
       "4. 1\n",
       "\n",
       "\n"
      ],
      "text/plain": [
       "[1] 1320   32   32    1"
      ]
     },
     "metadata": {},
     "output_type": "display_data"
    },
    {
     "name": "stdout",
     "output_type": "stream",
     "text": [
      "[1] \"Training grayscaled target's shape:\"\n"
     ]
    },
    {
     "data": {
      "text/html": [
       "<ol class=list-inline>\n",
       "\t<li>1320</li>\n",
       "\t<li>33</li>\n",
       "</ol>\n"
      ],
      "text/latex": [
       "\\begin{enumerate*}\n",
       "\\item 1320\n",
       "\\item 33\n",
       "\\end{enumerate*}\n"
      ],
      "text/markdown": [
       "1. 1320\n",
       "2. 33\n",
       "\n",
       "\n"
      ],
      "text/plain": [
       "[1] 1320   33"
      ]
     },
     "metadata": {},
     "output_type": "display_data"
    },
    {
     "name": "stdout",
     "output_type": "stream",
     "text": [
      "[1] \"Testing grayscaled tensor's shape:\"\n"
     ]
    },
    {
     "data": {
      "text/html": [
       "<ol class=list-inline>\n",
       "\t<li>330</li>\n",
       "\t<li>32</li>\n",
       "\t<li>32</li>\n",
       "\t<li>1</li>\n",
       "</ol>\n"
      ],
      "text/latex": [
       "\\begin{enumerate*}\n",
       "\\item 330\n",
       "\\item 32\n",
       "\\item 32\n",
       "\\item 1\n",
       "\\end{enumerate*}\n"
      ],
      "text/markdown": [
       "1. 330\n",
       "2. 32\n",
       "3. 32\n",
       "4. 1\n",
       "\n",
       "\n"
      ],
      "text/plain": [
       "[1] 330  32  32   1"
      ]
     },
     "metadata": {},
     "output_type": "display_data"
    },
    {
     "name": "stdout",
     "output_type": "stream",
     "text": [
      "[1] \"Testing grayscaled target's shape:\"\n"
     ]
    },
    {
     "data": {
      "text/html": [
       "<ol class=list-inline>\n",
       "\t<li>330</li>\n",
       "\t<li>33</li>\n",
       "</ol>\n"
      ],
      "text/latex": [
       "\\begin{enumerate*}\n",
       "\\item 330\n",
       "\\item 33\n",
       "\\end{enumerate*}\n"
      ],
      "text/markdown": [
       "1. 330\n",
       "2. 33\n",
       "\n",
       "\n"
      ],
      "text/plain": [
       "[1] 330  33"
      ]
     },
     "metadata": {},
     "output_type": "display_data"
    }
   ],
   "source": [
    "# Print the shape\n",
    "print (\"Training grayscaled tensor's shape:\")\n",
    "dim(x_train2)\n",
    "print (\"Training grayscaled target's shape:\")\n",
    "dim(y_train2)\n",
    "print (\"Testing grayscaled tensor's shape:\")\n",
    "dim(x_test2)\n",
    "print (\"Testing grayscaled target's shape:\")\n",
    "dim(y_test2)"
   ]
  },
  {
   "cell_type": "code",
   "execution_count": 27,
   "metadata": {},
   "outputs": [],
   "source": [
    "#============================\n",
    "#Create Classification Models\n",
    "#============================\n",
    "# create model\n",
    "model <- keras_model_sequential()\n",
    "# define and compile the model\n",
    "model %>%\n",
    "  layer_conv_2d(\n",
    "    filters = 32,\n",
    "    kernel_size = c(5, 5),\n",
    "    padding = 'same',\n",
    "    activation = 'relu',\n",
    "    input_shape = dim(x_train)[2:4]\n",
    "  ) %>%\n",
    "  \n",
    "  layer_max_pooling_2d(pool_size = c(2, 2)) %>%\n",
    "  layer_dropout(rate = 0.25) %>%\n",
    "  \n",
    "  layer_conv_2d(filters = 128,\n",
    "                kernel_size = c(5, 5),\n",
    "                activation = 'relu') %>%\n",
    "  \n",
    "  layer_max_pooling_2d(pool_size = c(2, 2)) %>%\n",
    "  layer_dropout(rate = 0.25) %>%\n",
    "  \n",
    "  layer_global_max_pooling_2d() %>%\n",
    "  \n",
    "  layer_dense(units = 1024, activation = 'relu') %>%\n",
    "  layer_dropout(rate = 0.25) %>%\n",
    "  \n",
    "  layer_dense(units = 128, activation = 'relu') %>%\n",
    "  layer_dropout(rate = 0.25) %>%\n",
    "  \n",
    "  layer_dense(units = 33, activation = 'softmax') %>%\n",
    "  \n",
    "  keras::compile(loss = 'categorical_crossentropy',\n",
    "                 optimizer = 'adam',\n",
    "                 metrics = c('accuracy'))"
   ]
  },
  {
   "cell_type": "code",
   "execution_count": 28,
   "metadata": {},
   "outputs": [],
   "source": [
    "# train\n",
    "history <- model %>%\n",
    "  fit(\n",
    "    x_train,\n",
    "    y_train,\n",
    "    epochs = 30,\n",
    "    batch_size = 64,\n",
    "    verbose = 2,\n",
    "    validation_data = list(x_test, y_test)\n",
    "  )"
   ]
  },
  {
   "cell_type": "code",
   "execution_count": 29,
   "metadata": {},
   "outputs": [
    {
     "data": {},
     "metadata": {},
     "output_type": "display_data"
    },
    {
     "data": {
      "image/png": "[encoded data removed]",
      "text/plain": [
       "plot without title"
      ]
     },
     "metadata": {},
     "output_type": "display_data"
    }
   ],
   "source": [
    "plot(history)"
   ]
  },
  {
   "cell_type": "code",
   "execution_count": 30,
   "metadata": {},
   "outputs": [
    {
     "data": {
      "text/html": [
       "<dl>\n",
       "\t<dt>$loss</dt>\n",
       "\t\t<dd>3.39264191280712</dd>\n",
       "\t<dt>$acc</dt>\n",
       "\t\t<dd>0.0666666666666667</dd>\n",
       "</dl>\n"
      ],
      "text/latex": [
       "\\begin{description}\n",
       "\\item[\\$loss] 3.39264191280712\n",
       "\\item[\\$acc] 0.0666666666666667\n",
       "\\end{description}\n"
      ],
      "text/markdown": [
       "$loss\n",
       ":   3.39264191280712\n",
       "$acc\n",
       ":   0.0666666666666667\n",
       "\n",
       "\n"
      ],
      "text/plain": [
       "$loss\n",
       "[1] 3.392642\n",
       "\n",
       "$acc\n",
       "[1] 0.06666667\n"
      ]
     },
     "metadata": {},
     "output_type": "display_data"
    }
   ],
   "source": [
    "# Calculate classification accuracy on the testing set\n",
    "score <- model %>% keras::evaluate(x_test, y_test)\n",
    "score"
   ]
  },
  {
   "cell_type": "code",
   "execution_count": 31,
   "metadata": {},
   "outputs": [],
   "source": [
    "#Define a model architecture and compile the model for grayscaled images.\n",
    "gray_model <- keras_model_sequential()\n",
    "gray_model %>%\n",
    "  layer_conv_2d(\n",
    "    filters = 32,\n",
    "    kernel_size = c(5, 5),\n",
    "    padding = 'same',\n",
    "    activation = 'relu',\n",
    "    input_shape = dim(x_train2)[2:4]\n",
    "  ) %>%\n",
    "  layer_max_pooling_2d(pool_size = c(2, 2)) %>%\n",
    "  layer_dropout(rate = 0.25) %>%\n",
    "  \n",
    "  layer_conv_2d(filters = 256,\n",
    "                kernel_size = c(5, 5),\n",
    "                activation = 'relu') %>%\n",
    "  layer_max_pooling_2d(pool_size = c(2, 2)) %>%\n",
    "  layer_dropout(rate = 0.25) %>%\n",
    "  \n",
    "  layer_global_max_pooling_2d() %>%\n",
    "  \n",
    "  layer_dense(units = 1024, activation = 'relu') %>%\n",
    "  layer_dropout(rate = 0.25) %>%\n",
    "  \n",
    "  layer_dense(units = 256, activation = 'relu') %>%\n",
    "  layer_dropout(rate = 0.25) %>%\n",
    "  \n",
    "  layer_dense(units = 33, activation = 'softmax') %>%\n",
    "  \n",
    "  keras::compile(loss = 'categorical_crossentropy',\n",
    "                 optimizer = 'rmsprop',\n",
    "                 metrics = c('accuracy'))"
   ]
  },
  {
   "cell_type": "code",
   "execution_count": 32,
   "metadata": {},
   "outputs": [],
   "source": [
    "gray_history <- gray_model %>%\n",
    "  fit(\n",
    "    x_train2,\n",
    "    y_train2,\n",
    "    epochs = 100,\n",
    "    batch_size = 64,\n",
    "    verbose = 2,\n",
    "    validation_data = list(x_test2, y_test2)\n",
    "  )"
   ]
  },
  {
   "cell_type": "code",
   "execution_count": 33,
   "metadata": {},
   "outputs": [
    {
     "data": {},
     "metadata": {},
     "output_type": "display_data"
    },
    {
     "data": {
      "image/png": "[encoded data removed]",
      "text/plain": [
       "plot without title"
      ]
     },
     "metadata": {},
     "output_type": "display_data"
    }
   ],
   "source": [
    "plot(gray_history)"
   ]
  },
  {
   "cell_type": "code",
   "execution_count": 34,
   "metadata": {},
   "outputs": [
    {
     "data": {
      "text/html": [
       "<dl>\n",
       "\t<dt>$loss</dt>\n",
       "\t\t<dd>2.0513052073392</dd>\n",
       "\t<dt>$acc</dt>\n",
       "\t\t<dd>0.409090909136064</dd>\n",
       "</dl>\n"
      ],
      "text/latex": [
       "\\begin{description}\n",
       "\\item[\\$loss] 2.0513052073392\n",
       "\\item[\\$acc] 0.409090909136064\n",
       "\\end{description}\n"
      ],
      "text/markdown": [
       "$loss\n",
       ":   2.0513052073392\n",
       "$acc\n",
       ":   0.409090909136064\n",
       "\n",
       "\n"
      ],
      "text/plain": [
       "$loss\n",
       "[1] 2.051305\n",
       "\n",
       "$acc\n",
       "[1] 0.4090909\n"
      ]
     },
     "metadata": {},
     "output_type": "display_data"
    }
   ],
   "source": [
    "gray_score  <-\n",
    "  gray_model %>% keras::evaluate(x_test2, y_test2)\n",
    "gray_score"
   ]
  },
  {
   "cell_type": "code",
   "execution_count": 23,
   "metadata": {},
   "outputs": [],
   "source": [
    "#========================\n",
    "#Random Forest Classifier\n",
    "#========================\n",
    "library(reticulate)\n",
    "use_python(Sys.which('python'))\n",
    "use_virtualenv(\"myenv\")\n",
    "sklearn <- import(\"sklearn.ensemble\")"
   ]
  },
  {
   "cell_type": "code",
   "execution_count": 24,
   "metadata": {},
   "outputs": [],
   "source": [
    "y_train_c <- c()\n",
    "for (i in 1:dim(y_train)[1]) {\n",
    "  y_train_c <- c(y_train_c, which(y_train[i, ] == max(y_train[i, ])))\n",
    "}\n",
    "y_test_c <- c()\n",
    "for (i in 1:dim(y_test)[1]) {\n",
    "  y_test_c <- c(y_test_c, which(y_test[i, ] == max(y_test[i, ])))\n",
    "}"
   ]
  },
  {
   "cell_type": "code",
   "execution_count": 26,
   "metadata": {},
   "outputs": [
    {
     "data": {
      "text/html": [
       "0.106060606060606"
      ],
      "text/latex": [
       "0.106060606060606"
      ],
      "text/markdown": [
       "0.106060606060606"
      ],
      "text/plain": [
       "[1] 0.1060606"
      ]
     },
     "metadata": {},
     "output_type": "display_data"
    }
   ],
   "source": [
    "x_train_r <- R.utils::wrap(x_train, map = list(1, NA))\n",
    "x_test_r <- R.utils::wrap(x_test, map = list(1, NA))\n",
    "clf <- sklearn$RandomForestClassifier()$fit(x_train_r, y_train_c)\n",
    "clf$score(x_test_r, y_test_c)"
   ]
  }
 ],
 "metadata": {
  "kernelspec": {
   "display_name": "R",
   "language": "R",
   "name": "ir"
  },
  "language_info": {
   "codemirror_mode": "r",
   "file_extension": ".r",
   "mimetype": "text/x-r-source",
   "name": "R",
   "pygments_lexer": "r",
   "version": "3.4.4"
  }
 },
 "nbformat": 4,
 "nbformat_minor": 2
}
